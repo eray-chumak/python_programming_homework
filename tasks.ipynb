{
 "cells": [
  {
   "cell_type": "markdown",
   "metadata": {},
   "source": [
    "### TASK 1 [A]"
   ]
  },
  {
   "cell_type": "code",
   "execution_count": null,
   "metadata": {},
   "outputs": [],
   "source": [
    "print(\"This is John's first program\")"
   ]
  },
  {
   "cell_type": "markdown",
   "metadata": {},
   "source": [
    "### TASK 2 [B]"
   ]
  },
  {
   "cell_type": "code",
   "execution_count": null,
   "metadata": {},
   "outputs": [],
   "source": [
    "parameters = [\"Name\", \"School\", \"Friend\"]\n",
    "arguments = [\"First Second\", \"Name\", \"First Second\"]\n",
    "\n",
    "for parameter, argument in zip(parameters, arguments):\n",
    "    print(f\"{parameter}: {argument}\")"
   ]
  },
  {
   "cell_type": "markdown",
   "metadata": {},
   "source": [
    "### TASK 3 [A]"
   ]
  },
  {
   "cell_type": "code",
   "execution_count": null,
   "metadata": {},
   "outputs": [],
   "source": [
    "town = input(\"LIVING IN TOWN: \")\n",
    "print(f\"I love visiting {town}\")"
   ]
  },
  {
   "cell_type": "markdown",
   "metadata": {},
   "source": [
    "### TASK 3 [B]"
   ]
  },
  {
   "cell_type": "code",
   "execution_count": null,
   "metadata": {},
   "outputs": [],
   "source": [
    "class name_mgr:\n",
    "    def __init__(self, first, second):\n",
    "        self.first = first\n",
    "        self.second = second\n",
    "        \n",
    "print(\"INPUT NAME:\")\n",
    "name = name_mgr(input(\"FIRST: \"), input(\"SECOND: \"))\n",
    "print(f\"Hello {name.first} {name.second}\")"
   ]
  },
  {
   "cell_type": "markdown",
   "metadata": {},
   "source": [
    "### TASK 3 [C]"
   ]
  },
  {
   "cell_type": "code",
   "execution_count": null,
   "metadata": {},
   "outputs": [],
   "source": [
    "name = input(\"NAME: \")\n",
    "\n",
    "for i in range(0, 5):\n",
    "    print(name)"
   ]
  },
  {
   "cell_type": "markdown",
   "metadata": {},
   "source": [
    "### TASK 4 [A]"
   ]
  },
  {
   "cell_type": "code",
   "execution_count": null,
   "metadata": {},
   "outputs": [],
   "source": [
    "print(1 + 6)\n",
    "print(7 - 5)\n",
    "print(3 * 9)\n",
    "print(7 / 2)\n",
    "print(7 % 2)"
   ]
  },
  {
   "cell_type": "markdown",
   "metadata": {},
   "source": [
    "### TASK 4 [C]"
   ]
  },
  {
   "cell_type": "code",
   "execution_count": null,
   "metadata": {},
   "outputs": [],
   "source": [
    "def req_input():\n",
    "    try:\n",
    "        return int(input(\"NUMBER: \"))\n",
    "    except Exception as error:\n",
    "        print(error)\n",
    "        req_input()\n",
    "    \n",
    "print(\"NUMBER IS NOT A PRIME.\") if (req_input() % 2 == 0) else print(\"NUMBER IS A PRIME.\")"
   ]
  },
  {
   "cell_type": "markdown",
   "metadata": {},
   "source": [
    "### TASK 5 [A]"
   ]
  },
  {
   "cell_type": "code",
   "execution_count": null,
   "metadata": {},
   "outputs": [],
   "source": [
    "c = 0\n",
    "for i in range(0, 2):\n",
    "    c += int(input(\"NUMBER: \"))\n",
    "    \n",
    "print(f\"SUM: {c}\")"
   ]
  },
  {
   "cell_type": "markdown",
   "metadata": {},
   "source": [
    "### TASK 5 [B]"
   ]
  },
  {
   "cell_type": "code",
   "execution_count": null,
   "metadata": {},
   "outputs": [],
   "source": [
    "radius = input(\"RADIUS: \")\n",
    "length = input(\"LENGTH: \")\n",
    "result = ((radius ** radius) * 3.14) * length\n",
    "\n",
    "print(result)"
   ]
  },
  {
   "cell_type": "markdown",
   "metadata": {},
   "source": [
    "### TASK 5 [C]"
   ]
  },
  {
   "cell_type": "code",
   "execution_count": null,
   "metadata": {},
   "outputs": [],
   "source": [
    "numbers = []\n",
    "for i in range(1, 4):\n",
    "    numbers.append(input(f\"NUM {i}: \"))\n",
    "print(f\"LARGEST: {max(numbers)}\")"
   ]
  },
  {
   "cell_type": "markdown",
   "metadata": {},
   "source": [
    "### TASK 6 [A]"
   ]
  },
  {
   "cell_type": "code",
   "execution_count": null,
   "metadata": {},
   "outputs": [],
   "source": [
    "marks = int(input(\"MARKS: \"))\n",
    "\n",
    "if (marks >= 0 and marks < 40): print(\"GRADE U\")\n",
    "elif (marks >= 40 and marks < 50): print(\"GRADE D\")\n",
    "elif (marks >= 50 and marks < 60): print(\"GRADE C\")\n",
    "elif (marks >= 60 and marks < 70): print(\"GRADE B\")\n",
    "elif (marks < 0 or marks > 70): print(\"INVALID MARKS\")\n",
    "else: print(\"GRADE A\")"
   ]
  },
  {
   "cell_type": "markdown",
   "metadata": {},
   "source": [
    "### TASK 7 [A]"
   ]
  },
  {
   "cell_type": "code",
   "execution_count": null,
   "metadata": {},
   "outputs": [],
   "source": [
    "letter = str(input(\"LETTER: \"))\n",
    "count = int(input(\"COUNT: \"))\n",
    "\n",
    "for i in range(0, count):\n",
    "    print(letter, end=\"\")"
   ]
  },
  {
   "cell_type": "markdown",
   "metadata": {},
   "source": [
    "### TASK 7 [B]"
   ]
  },
  {
   "cell_type": "code",
   "execution_count": null,
   "metadata": {},
   "outputs": [],
   "source": [
    "for i in range(0, 1000):\n",
    "    if (i % 3 == 0 or i % 4 == 0): print(i, end=\" \")"
   ]
  },
  {
   "cell_type": "markdown",
   "metadata": {},
   "source": [
    "### TASK 8 [A]"
   ]
  },
  {
   "cell_type": "code",
   "execution_count": null,
   "metadata": {},
   "outputs": [],
   "source": [
    "password = \"password\"\n",
    "\n",
    "# pot_pass = potential password\n",
    "def req_pass():\n",
    "    pot_pass = input(\"PASSWORD: \")\n",
    "    if (pot_pass == password): print(\"Access Granted.\")\n",
    "    else: [print(\"Access Denied.\"), req_pass()]\n",
    "        \n",
    "req_pass()"
   ]
  },
  {
   "cell_type": "markdown",
   "metadata": {},
   "source": [
    "### TASK 8 [B]"
   ]
  },
  {
   "cell_type": "code",
   "execution_count": 5,
   "metadata": {},
   "outputs": [
    {
     "name": "stdout",
     "output_type": "stream",
     "text": [
      "0 1 4 9 16 25 36 49 64 81 100 121 144 169 196 225 256 289 324 361 400 441 484 "
     ]
    }
   ],
   "source": [
    "for i in range(0, 500):\n",
    "    if (i ** 2 < 500): print(i ** 2, end=\" \") "
   ]
  },
  {
   "cell_type": "markdown",
   "metadata": {},
   "source": [
    "### TASK 9 [A]"
   ]
  },
  {
   "cell_type": "code",
   "execution_count": 9,
   "metadata": {},
   "outputs": [
    {
     "name": "stdout",
     "output_type": "stream",
     "text": [
      "AREA: 146499.84 cm^2\n"
     ]
    }
   ],
   "source": [
    "def circle_area(radius):\n",
    "    return (radius ** radius) * 3.14\n",
    "\n",
    "print(f\"AREA: {circle_area(6)} cm^2\")"
   ]
  },
  {
   "cell_type": "markdown",
   "metadata": {},
   "source": [
    "### TASK 9 [B]"
   ]
  },
  {
   "cell_type": "code",
   "execution_count": 13,
   "metadata": {},
   "outputs": [
    {
     "name": "stdout",
     "output_type": "stream",
     "text": [
      "00000110\n"
     ]
    }
   ],
   "source": [
    "def decToBin(integer):\n",
    "    return bin(integer)\n",
    "\n",
    "print(decToBin(6)[2:].zfill(8))"
   ]
  },
  {
   "cell_type": "markdown",
   "metadata": {},
   "source": [
    "### TASK 9 [C]"
   ]
  },
  {
   "cell_type": "code",
   "execution_count": 256,
   "metadata": {},
   "outputs": [
    {
     "name": "stdout",
     "output_type": "stream",
     "text": [
      "     -\n",
      "    ---\n",
      "   -----\n",
      "  -------\n",
      " ---------\n"
     ]
    }
   ],
   "source": [
    "def triangle(size, content, c_count = 1):\n",
    "    for i in range(1, size + 1):\n",
    "        print(\" \" * (size - (c_count // 2)) + content * c_count)\n",
    "        c_count += 2\n",
    "        \n",
    "triangle(5, \"-\")"
   ]
  }
 ],
 "metadata": {
  "kernelspec": {
   "display_name": "Python 3",
   "language": "python",
   "name": "python3"
  },
  "language_info": {
   "codemirror_mode": {
    "name": "ipython",
    "version": 3
   },
   "file_extension": ".py",
   "mimetype": "text/x-python",
   "name": "python",
   "nbconvert_exporter": "python",
   "pygments_lexer": "ipython3",
   "version": "3.6.6"
  }
 },
 "nbformat": 4,
 "nbformat_minor": 2
}
